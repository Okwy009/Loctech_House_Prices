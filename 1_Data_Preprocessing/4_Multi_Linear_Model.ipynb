{
 "cells": [
  {
   "cell_type": "markdown",
   "metadata": {},
   "source": [
    "# Buiding Multiple Linear Model"
   ]
  },
  {
   "cell_type": "markdown",
   "metadata": {},
   "source": [
    "## Objective\n",
    "\n",
    "- Describe how you would build a multiple linear regression model using all independent variables that correlate with price with Scikit-learn's LinearRegression class.\n",
    "- Write a Python code snippet to use cross-validation with Scikit-learn&#39;s cross_val_score function to assess the performance of these models."
   ]
  },
  {
   "cell_type": "markdown",
   "metadata": {},
   "source": [
    "## Question to Answer\n",
    "What metrics would you use to evaluate this model (e.g., R-squared, MSE, Mean Absolute Error (MAE) with metrics.mean_absolute_error())?\n"
   ]
  },
  {
   "cell_type": "code",
   "execution_count": 1,
   "metadata": {},
   "outputs": [],
   "source": [
    "import pandas as pd\n",
    "from sklearn.model_selection import train_test_split\n",
    "from sklearn.linear_model import LinearRegression\n",
    "from sklearn.metrics import mean_squared_error, mean_absolute_error, r2_score\n",
    "\n",
    "# Load the saved Dataset\n",
    "df_one_hot = pd.read_excel(r'C:\\Users\\hp\\OneDrive\\Desktop\\Data_Analyst\\Loctech_House_Prices\\Dataset\\df_one_hot.xlsx')"
   ]
  },
  {
   "cell_type": "code",
   "execution_count": 4,
   "metadata": {},
   "outputs": [
    {
     "name": "stdout",
     "output_type": "stream",
     "text": [
      "                      House_ID  Size (sq ft)  Bedrooms  Bathrooms       Age  \\\n",
      "House_ID              1.000000     -0.018601 -0.165449   0.054599 -0.067746   \n",
      "Size (sq ft)         -0.018601      1.000000  0.008606  -0.054507  0.006126   \n",
      "Bedrooms             -0.165449      0.008606  1.000000   0.174625 -0.105081   \n",
      "Bathrooms             0.054599     -0.054507  0.174625   1.000000 -0.054055   \n",
      "Age                  -0.067746      0.006126 -0.105081  -0.054055  1.000000   \n",
      "Price ($)            -0.065263      0.000857  0.038449   0.098669  0.123575   \n",
      "Location_Label        0.093738     -0.085844  0.065511  -0.108575  0.118278   \n",
      "Location_Chicago     -0.088826     -0.117016 -0.074574   0.090011  0.014768   \n",
      "Location_Houston     -0.081348      0.247550  0.015582   0.041545 -0.139262   \n",
      "Location_Los Angeles  0.033596     -0.016910  0.069220   0.077993 -0.011992   \n",
      "Location_New York     0.215510     -0.062339 -0.146771  -0.267931  0.028491   \n",
      "Location_Phoenix     -0.071970     -0.088829  0.124135   0.050846  0.126458   \n",
      "\n",
      "                      Price ($)  Location_Label  Location_Chicago  \\\n",
      "House_ID              -0.065263        0.093738         -0.088826   \n",
      "Size (sq ft)           0.000857       -0.085844         -0.117016   \n",
      "Bedrooms               0.038449        0.065511         -0.074574   \n",
      "Bathrooms              0.098669       -0.108575          0.090011   \n",
      "Age                    0.123575        0.118278          0.014768   \n",
      "Price ($)              1.000000       -0.114042          0.072895   \n",
      "Location_Label        -0.114042        1.000000         -0.637124   \n",
      "Location_Chicago       0.072895       -0.637124          1.000000   \n",
      "Location_Houston       0.208802       -0.428287         -0.258697   \n",
      "Location_Los Angeles  -0.186979        0.007603         -0.225018   \n",
      "Location_New York     -0.194345        0.352345         -0.204479   \n",
      "Location_Phoenix       0.082874        0.721313         -0.211375   \n",
      "\n",
      "                      Location_Houston  Location_Los Angeles  \\\n",
      "House_ID                     -0.081348              0.033596   \n",
      "Size (sq ft)                  0.247550             -0.016910   \n",
      "Bedrooms                      0.015582              0.069220   \n",
      "Bathrooms                     0.041545              0.077993   \n",
      "Age                          -0.139262             -0.011992   \n",
      "Price ($)                     0.208802             -0.186979   \n",
      "Location_Label               -0.428287              0.007603   \n",
      "Location_Chicago             -0.258697             -0.225018   \n",
      "Location_Houston              1.000000             -0.305610   \n",
      "Location_Los Angeles         -0.305610              1.000000   \n",
      "Location_New York            -0.277716             -0.241560   \n",
      "Location_Phoenix             -0.287081             -0.249707   \n",
      "\n",
      "                      Location_New York  Location_Phoenix  \n",
      "House_ID                       0.215510         -0.071970  \n",
      "Size (sq ft)                  -0.062339         -0.088829  \n",
      "Bedrooms                      -0.146771          0.124135  \n",
      "Bathrooms                     -0.267931          0.050846  \n",
      "Age                            0.028491          0.126458  \n",
      "Price ($)                     -0.194345          0.082874  \n",
      "Location_Label                 0.352345          0.721313  \n",
      "Location_Chicago              -0.204479         -0.211375  \n",
      "Location_Houston              -0.277716         -0.287081  \n",
      "Location_Los Angeles          -0.241560         -0.249707  \n",
      "Location_New York              1.000000         -0.226915  \n",
      "Location_Phoenix              -0.226915          1.000000  \n",
      "Relevant features: ['House_ID', 'Bedrooms', 'Bathrooms', 'Age', 'Location_Label', 'Location_Chicago', 'Location_Houston', 'Location_Los Angeles', 'Location_New York', 'Location_Phoenix']\n"
     ]
    }
   ],
   "source": [
    "# Filter numeric columns for correlation calculation\n",
    "numeric_columns = df_one_hot.select_dtypes(include=['number'])\n",
    "\n",
    "# Compute correlation matrix\n",
    "correlation_matrix = numeric_columns.corr()\n",
    "\n",
    "print(correlation_matrix)\n",
    "\n",
    "# Filter variables with correlation > 0.03 (absolute value)\n",
    "relevant_features = correlation_matrix['Price ($)'][abs(correlation_matrix['Price ($)']) > 0.03].index.tolist()\n",
    "\n",
    "# Exclude 'Price ($)' itself\n",
    "relevant_features.remove('Price ($)')\n",
    "print(\"Relevant features:\", relevant_features)\n"
   ]
  },
  {
   "cell_type": "code",
   "execution_count": null,
   "metadata": {},
   "outputs": [],
   "source": [
    "# Select relevant features\n",
    "X = df_one_hot[relevant_features]\n",
    "y = df_one_hot['Price ($)']\n",
    "\n",
    "# Split into training and testing sets (80-20 split)\n",
    "X_train, X_test, y_train, y_test = train_test_split(X, y, test_size=0.2, random_state=42)\n"
   ]
  },
  {
   "cell_type": "code",
   "execution_count": 7,
   "metadata": {},
   "outputs": [
    {
     "name": "stdout",
     "output_type": "stream",
     "text": [
      "Intercept: 430615.7188356812\n",
      "Coefficients: [    413.65314809   19593.49006105   24955.14012841    3924.51059281\n",
      "  -27125.01400532    8200.70606863   91259.24533787 -131550.39653681\n",
      "  -16354.75320917   48445.19833948]\n"
     ]
    }
   ],
   "source": [
    "# Train the model\n",
    "# Initialize and fit the model\n",
    "model = LinearRegression()\n",
    "model.fit(X_train, y_train)\n",
    "\n",
    "# Display model coefficients\n",
    "print(\"Intercept:\", model.intercept_)\n",
    "print(\"Coefficients:\", model.coef_)\n"
   ]
  },
  {
   "cell_type": "code",
   "execution_count": 8,
   "metadata": {},
   "outputs": [
    {
     "name": "stdout",
     "output_type": "stream",
     "text": [
      "Mean Squared Error (MSE): 65104157153.51\n",
      "Mean Absolute Error (MAE): 231236.33\n",
      "R-squared: 0.01\n"
     ]
    }
   ],
   "source": [
    "# Evaluate the model\n",
    "\n",
    "# Predict on the test set\n",
    "y_pred = model.predict(X_test)\n",
    "\n",
    "# Calculate metrics\n",
    "mse = mean_squared_error(y_test, y_pred)\n",
    "mae = mean_absolute_error(y_test, y_pred)\n",
    "r2 = r2_score(y_test, y_pred)\n",
    "\n",
    "# Print evaluation metrics\n",
    "print(f\"Mean Squared Error (MSE): {mse:.2f}\")\n",
    "print(f\"Mean Absolute Error (MAE): {mae:.2f}\")\n",
    "print(f\"R-squared: {r2:.2f}\")\n"
   ]
  },
  {
   "cell_type": "markdown",
   "metadata": {},
   "source": [
    "- Cross Validation"
   ]
  },
  {
   "cell_type": "code",
   "execution_count": 10,
   "metadata": {},
   "outputs": [
    {
     "name": "stdout",
     "output_type": "stream",
     "text": [
      "Mean MSE: 78856144538.79152, Standard Deviation: 22128236553.74583\n"
     ]
    }
   ],
   "source": [
    "from sklearn.model_selection import cross_val_score\n",
    "\n",
    "# Cross-validation for the multiple linear regression model\n",
    "cv_scores = cross_val_score(model, X, y, cv=5, scoring='neg_mean_squared_error')\n",
    "mean_mse = -cv_scores.mean()\n",
    "std_mse = cv_scores.std()\n",
    "\n",
    "print(f\"Mean MSE: {mean_mse}, Standard Deviation: {std_mse}\")"
   ]
  },
  {
   "cell_type": "markdown",
   "metadata": {},
   "source": [
    "- Coefficient Interpretation"
   ]
  },
  {
   "cell_type": "code",
   "execution_count": 11,
   "metadata": {},
   "outputs": [
    {
     "name": "stdout",
     "output_type": "stream",
     "text": [
      "                        Coefficient\n",
      "House_ID                 413.653148\n",
      "Bedrooms               19593.490061\n",
      "Bathrooms              24955.140128\n",
      "Age                     3924.510593\n",
      "Location_Label        -27125.014005\n",
      "Location_Chicago        8200.706069\n",
      "Location_Houston       91259.245338\n",
      "Location_Los Angeles -131550.396537\n",
      "Location_New York     -16354.753209\n",
      "Location_Phoenix       48445.198339\n"
     ]
    }
   ],
   "source": [
    "# Coefficients of the best model\n",
    "coefficients = pd.DataFrame(model.coef_, index=relevant_features, columns=['Coefficient'])\n",
    "print(coefficients)\n"
   ]
  },
  {
   "cell_type": "markdown",
   "metadata": {},
   "source": [
    "- Predictive Equation"
   ]
  },
  {
   "cell_type": "code",
   "execution_count": 12,
   "metadata": {},
   "outputs": [
    {
     "name": "stdout",
     "output_type": "stream",
     "text": [
      "Price ($) = 413.65*House_ID + 19593.49*Bedrooms + 24955.14*Bathrooms + 3924.51*Age + -27125.01*Location_Label + 8200.71*Location_Chicago + 91259.25*Location_Houston + -131550.40*Location_Los Angeles + -16354.75*Location_New York + 48445.20*Location_Phoenix + 430615.72\n"
     ]
    }
   ],
   "source": [
    "# Equation\n",
    "intercept = model.intercept_\n",
    "equation = \"Price ($) = \" + \" + \".join([f\"{coef:.2f}*{feature}\" for coef, feature in zip(model.coef_, relevant_features)]) + f\" + {intercept:.2f}\"\n",
    "print(equation)\n"
   ]
  }
 ],
 "metadata": {
  "kernelspec": {
   "display_name": "python_course",
   "language": "python",
   "name": "python3"
  },
  "language_info": {
   "codemirror_mode": {
    "name": "ipython",
    "version": 3
   },
   "file_extension": ".py",
   "mimetype": "text/x-python",
   "name": "python",
   "nbconvert_exporter": "python",
   "pygments_lexer": "ipython3",
   "version": "3.11.9"
  }
 },
 "nbformat": 4,
 "nbformat_minor": 2
}
