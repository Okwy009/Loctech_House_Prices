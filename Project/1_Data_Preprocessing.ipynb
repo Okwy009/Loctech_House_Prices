{
 "cells": [
  {
   "cell_type": "markdown",
   "metadata": {},
   "source": [
    "# Data Preprocessing"
   ]
  },
  {
   "cell_type": "markdown",
   "metadata": {},
   "source": [
    "## Objectives\n",
    "1. Identify and handle missing values \n",
    "2. Describe how you would encode the Location variable using:\n",
    "    - pd.get_dummies() to create one-hot encoded variables.\n",
    "    - LabelEncoder from Scikit-learn's preprocessing module to assign numerical labels.\n",
    "    - OneHotEncoder from Scikit-learn's preprocessing module to create one-hot encoded variables."
   ]
  },
  {
   "cell_type": "code",
   "execution_count": 1,
   "metadata": {},
   "outputs": [
    {
     "data": {
      "text/html": [
       "<div>\n",
       "<style scoped>\n",
       "    .dataframe tbody tr th:only-of-type {\n",
       "        vertical-align: middle;\n",
       "    }\n",
       "\n",
       "    .dataframe tbody tr th {\n",
       "        vertical-align: top;\n",
       "    }\n",
       "\n",
       "    .dataframe thead th {\n",
       "        text-align: right;\n",
       "    }\n",
       "</style>\n",
       "<table border=\"1\" class=\"dataframe\">\n",
       "  <thead>\n",
       "    <tr style=\"text-align: right;\">\n",
       "      <th></th>\n",
       "      <th>House_ID</th>\n",
       "      <th>Location</th>\n",
       "      <th>Size (sq ft)</th>\n",
       "      <th>Bedrooms</th>\n",
       "      <th>Bathrooms</th>\n",
       "      <th>Age</th>\n",
       "      <th>Price ($)</th>\n",
       "    </tr>\n",
       "  </thead>\n",
       "  <tbody>\n",
       "    <tr>\n",
       "      <th>0</th>\n",
       "      <td>1</td>\n",
       "      <td>Houston</td>\n",
       "      <td>1751</td>\n",
       "      <td>3</td>\n",
       "      <td>3</td>\n",
       "      <td>26</td>\n",
       "      <td>990617</td>\n",
       "    </tr>\n",
       "    <tr>\n",
       "      <th>1</th>\n",
       "      <td>2</td>\n",
       "      <td>Phoenix</td>\n",
       "      <td>834</td>\n",
       "      <td>2</td>\n",
       "      <td>3</td>\n",
       "      <td>29</td>\n",
       "      <td>647337</td>\n",
       "    </tr>\n",
       "    <tr>\n",
       "      <th>2</th>\n",
       "      <td>3</td>\n",
       "      <td>Chicago</td>\n",
       "      <td>900</td>\n",
       "      <td>4</td>\n",
       "      <td>1</td>\n",
       "      <td>22</td>\n",
       "      <td>834965</td>\n",
       "    </tr>\n",
       "    <tr>\n",
       "      <th>3</th>\n",
       "      <td>4</td>\n",
       "      <td>Phoenix</td>\n",
       "      <td>1479</td>\n",
       "      <td>1</td>\n",
       "      <td>1</td>\n",
       "      <td>26</td>\n",
       "      <td>460260</td>\n",
       "    </tr>\n",
       "    <tr>\n",
       "      <th>4</th>\n",
       "      <td>5</td>\n",
       "      <td>Phoenix</td>\n",
       "      <td>1629</td>\n",
       "      <td>3</td>\n",
       "      <td>3</td>\n",
       "      <td>26</td>\n",
       "      <td>983811</td>\n",
       "    </tr>\n",
       "    <tr>\n",
       "      <th>...</th>\n",
       "      <td>...</td>\n",
       "      <td>...</td>\n",
       "      <td>...</td>\n",
       "      <td>...</td>\n",
       "      <td>...</td>\n",
       "      <td>...</td>\n",
       "      <td>...</td>\n",
       "    </tr>\n",
       "    <tr>\n",
       "      <th>95</th>\n",
       "      <td>96</td>\n",
       "      <td>Chicago</td>\n",
       "      <td>1451</td>\n",
       "      <td>1</td>\n",
       "      <td>3</td>\n",
       "      <td>7</td>\n",
       "      <td>406955</td>\n",
       "    </tr>\n",
       "    <tr>\n",
       "      <th>96</th>\n",
       "      <td>97</td>\n",
       "      <td>Phoenix</td>\n",
       "      <td>843</td>\n",
       "      <td>4</td>\n",
       "      <td>3</td>\n",
       "      <td>4</td>\n",
       "      <td>267280</td>\n",
       "    </tr>\n",
       "    <tr>\n",
       "      <th>97</th>\n",
       "      <td>98</td>\n",
       "      <td>Los Angeles</td>\n",
       "      <td>1308</td>\n",
       "      <td>1</td>\n",
       "      <td>2</td>\n",
       "      <td>1</td>\n",
       "      <td>775510</td>\n",
       "    </tr>\n",
       "    <tr>\n",
       "      <th>98</th>\n",
       "      <td>99</td>\n",
       "      <td>Los Angeles</td>\n",
       "      <td>1924</td>\n",
       "      <td>2</td>\n",
       "      <td>3</td>\n",
       "      <td>5</td>\n",
       "      <td>695468</td>\n",
       "    </tr>\n",
       "    <tr>\n",
       "      <th>99</th>\n",
       "      <td>100</td>\n",
       "      <td>New York</td>\n",
       "      <td>1847</td>\n",
       "      <td>1</td>\n",
       "      <td>1</td>\n",
       "      <td>23</td>\n",
       "      <td>798646</td>\n",
       "    </tr>\n",
       "  </tbody>\n",
       "</table>\n",
       "<p>100 rows × 7 columns</p>\n",
       "</div>"
      ],
      "text/plain": [
       "    House_ID     Location  Size (sq ft)  Bedrooms  Bathrooms  Age  Price ($)\n",
       "0          1      Houston          1751         3          3   26     990617\n",
       "1          2      Phoenix           834         2          3   29     647337\n",
       "2          3      Chicago           900         4          1   22     834965\n",
       "3          4      Phoenix          1479         1          1   26     460260\n",
       "4          5      Phoenix          1629         3          3   26     983811\n",
       "..       ...          ...           ...       ...        ...  ...        ...\n",
       "95        96      Chicago          1451         1          3    7     406955\n",
       "96        97      Phoenix           843         4          3    4     267280\n",
       "97        98  Los Angeles          1308         1          2    1     775510\n",
       "98        99  Los Angeles          1924         2          3    5     695468\n",
       "99       100     New York          1847         1          1   23     798646\n",
       "\n",
       "[100 rows x 7 columns]"
      ]
     },
     "execution_count": 1,
     "metadata": {},
     "output_type": "execute_result"
    }
   ],
   "source": [
    "# Loading Libraries\n",
    "import pandas as pd\n",
    "\n",
    "# Loading the dataset\n",
    "df = pd.read_excel(r'C:\\Users\\hp\\OneDrive\\Desktop\\Data_Analyst\\Loctech_House_Prices\\Dataset\\house_prices_dataset.xlsx')\n",
    "\n",
    "# Display the dataset\n",
    "df"
   ]
  },
  {
   "cell_type": "code",
   "execution_count": 2,
   "metadata": {},
   "outputs": [
    {
     "name": "stdout",
     "output_type": "stream",
     "text": [
      "<class 'pandas.core.frame.DataFrame'>\n",
      "RangeIndex: 100 entries, 0 to 99\n",
      "Data columns (total 7 columns):\n",
      " #   Column        Non-Null Count  Dtype \n",
      "---  ------        --------------  ----- \n",
      " 0   House_ID      100 non-null    int64 \n",
      " 1   Location      100 non-null    object\n",
      " 2   Size (sq ft)  100 non-null    int64 \n",
      " 3   Bedrooms      100 non-null    int64 \n",
      " 4   Bathrooms     100 non-null    int64 \n",
      " 5   Age           100 non-null    int64 \n",
      " 6   Price ($)     100 non-null    int64 \n",
      "dtypes: int64(6), object(1)\n",
      "memory usage: 5.6+ KB\n"
     ]
    }
   ],
   "source": [
    "df.info()"
   ]
  },
  {
   "cell_type": "markdown",
   "metadata": {},
   "source": [
    "- Identifying and handling missing values"
   ]
  },
  {
   "cell_type": "code",
   "execution_count": 3,
   "metadata": {},
   "outputs": [
    {
     "name": "stdout",
     "output_type": "stream",
     "text": [
      "Missing Values:\n",
      " House_ID        0\n",
      "Location        0\n",
      "Size (sq ft)    0\n",
      "Bedrooms        0\n",
      "Bathrooms       0\n",
      "Age             0\n",
      "Price ($)       0\n",
      "dtype: int64\n",
      "Number of duplicate rows: 0\n",
      "Unique Locations:\n",
      " ['Houston' 'Phoenix' 'Chicago' 'Los Angeles' 'New York']\n",
      "         House_ID  Size (sq ft)    Bedrooms   Bathrooms         Age  \\\n",
      "count  100.000000    100.000000  100.000000  100.000000  100.000000   \n",
      "mean    50.500000   1439.840000    2.700000    2.020000   16.150000   \n",
      "std     29.011492    361.364298    1.176367    0.816249    8.539126   \n",
      "min      1.000000    701.000000    1.000000    1.000000    1.000000   \n",
      "25%     25.750000   1197.500000    2.000000    1.000000    8.000000   \n",
      "50%     50.500000   1445.000000    3.000000    2.000000   16.500000   \n",
      "75%     75.250000   1752.250000    4.000000    3.000000   23.000000   \n",
      "max    100.000000   1991.000000    4.000000    3.000000   29.000000   \n",
      "\n",
      "           Price ($)  \n",
      "count     100.000000  \n",
      "mean   571194.690000  \n",
      "std    275593.473039  \n",
      "min    103267.000000  \n",
      "25%    317084.250000  \n",
      "50%    624301.000000  \n",
      "75%    792982.750000  \n",
      "max    992323.000000  \n"
     ]
    }
   ],
   "source": [
    "# Data Cleanup\n",
    "\n",
    "# Check for missing values\n",
    "print(\"Missing Values:\\n\", df.isnull().sum())\n",
    "\n",
    "# Check for duplicate rows\n",
    "duplicates = df.duplicated().sum()\n",
    "print(f\"Number of duplicate rows: {duplicates}\")\n",
    "\n",
    "# Check unique values in 'Location' column for consistency\n",
    "print(\"Unique Locations:\\n\", df['Location'].unique())\n",
    "\n",
    "# Check for outliers in numerical columns\n",
    "print(df.describe())"
   ]
  },
  {
   "cell_type": "markdown",
   "metadata": {},
   "source": [
    "- Creating one-hot encoded variables with pd.get_dummies() "
   ]
  },
  {
   "cell_type": "code",
   "execution_count": 4,
   "metadata": {},
   "outputs": [
    {
     "name": "stdout",
     "output_type": "stream",
     "text": [
      "   House_ID  Size (sq ft)  Bedrooms  Bathrooms  Age  Price ($)  \\\n",
      "0         1          1751         3          3   26     990617   \n",
      "1         2           834         2          3   29     647337   \n",
      "2         3           900         4          1   22     834965   \n",
      "3         4          1479         1          1   26     460260   \n",
      "4         5          1629         3          3   26     983811   \n",
      "\n",
      "   Location_Chicago  Location_Houston  Location_Los Angeles  \\\n",
      "0             False              True                 False   \n",
      "1             False             False                 False   \n",
      "2              True             False                 False   \n",
      "3             False             False                 False   \n",
      "4             False             False                 False   \n",
      "\n",
      "   Location_New York  Location_Phoenix  \n",
      "0              False             False  \n",
      "1              False              True  \n",
      "2              False             False  \n",
      "3              False              True  \n",
      "4              False              True  \n"
     ]
    }
   ],
   "source": [
    "# One-hot encoding with pd.get_dummies()\n",
    "df_dummies = pd.get_dummies(df, columns=['Location'], prefix='Location')\n",
    "\n",
    "# Display the resulting DataFrame\n",
    "print(df_dummies.head())"
   ]
  },
  {
   "cell_type": "markdown",
   "metadata": {},
   "source": [
    "- LabelEncoder from Scikit-learn's preprocessing module to assign numerical labels."
   ]
  },
  {
   "cell_type": "code",
   "execution_count": 5,
   "metadata": {},
   "outputs": [
    {
     "name": "stdout",
     "output_type": "stream",
     "text": [
      "Mapping: {'Chicago': 0, 'Houston': 1, 'Los Angeles': 2, 'New York': 3, 'Phoenix': 4}\n",
      "   House_ID Location  Size (sq ft)  Bedrooms  Bathrooms  Age  Price ($)  \\\n",
      "0         1  Houston          1751         3          3   26     990617   \n",
      "1         2  Phoenix           834         2          3   29     647337   \n",
      "2         3  Chicago           900         4          1   22     834965   \n",
      "3         4  Phoenix          1479         1          1   26     460260   \n",
      "4         5  Phoenix          1629         3          3   26     983811   \n",
      "\n",
      "   Location_Label  \n",
      "0               1  \n",
      "1               4  \n",
      "2               0  \n",
      "3               4  \n",
      "4               4  \n"
     ]
    }
   ],
   "source": [
    "from sklearn.preprocessing import LabelEncoder\n",
    "\n",
    "# Initialize the LabelEncoder\n",
    "label_encoder = LabelEncoder()\n",
    "\n",
    "# Encode the 'Location' column\n",
    "df['Location_Label'] = label_encoder.fit_transform(df['Location'])\n",
    "\n",
    "# Display the mapping and updated DataFrame\n",
    "print(\"Mapping:\", dict(zip(label_encoder.classes_, label_encoder.transform(label_encoder.classes_))))\n",
    "print(df.head())\n"
   ]
  },
  {
   "cell_type": "markdown",
   "metadata": {},
   "source": [
    "- OneHotEncoder from Scikit-learn's preprocessing module to create one-hot encoded variables."
   ]
  },
  {
   "cell_type": "code",
   "execution_count": 6,
   "metadata": {},
   "outputs": [
    {
     "name": "stdout",
     "output_type": "stream",
     "text": [
      "   House_ID Location  Size (sq ft)  Bedrooms  Bathrooms  Age  Price ($)  \\\n",
      "0         1  Houston          1751         3          3   26     990617   \n",
      "1         2  Phoenix           834         2          3   29     647337   \n",
      "2         3  Chicago           900         4          1   22     834965   \n",
      "3         4  Phoenix          1479         1          1   26     460260   \n",
      "4         5  Phoenix          1629         3          3   26     983811   \n",
      "\n",
      "   Location_Label  Location_Chicago  Location_Houston  Location_Los Angeles  \\\n",
      "0               1               0.0               1.0                   0.0   \n",
      "1               4               0.0               0.0                   0.0   \n",
      "2               0               1.0               0.0                   0.0   \n",
      "3               4               0.0               0.0                   0.0   \n",
      "4               4               0.0               0.0                   0.0   \n",
      "\n",
      "   Location_New York  Location_Phoenix  \n",
      "0                0.0               0.0  \n",
      "1                0.0               1.0  \n",
      "2                0.0               0.0  \n",
      "3                0.0               1.0  \n",
      "4                0.0               1.0  \n"
     ]
    }
   ],
   "source": [
    "from sklearn.preprocessing import OneHotEncoder\n",
    "\n",
    "# Initialize the OneHotEncoder\n",
    "one_hot_encoder = OneHotEncoder(sparse_output=False, drop=None)\n",
    "\n",
    "# Fit and transform the 'Location' column\n",
    "location_encoded = one_hot_encoder.fit_transform(df[['Location']])\n",
    "\n",
    "# Convert the result into a DataFrame\n",
    "location_encoded_df = pd.DataFrame(location_encoded, columns=one_hot_encoder.get_feature_names_out(['Location']))\n",
    "\n",
    "# Concatenate with the original DataFrame\n",
    "df_one_hot = pd.concat([df, location_encoded_df], axis=1)\n",
    "\n",
    "# Display the resulting DataFrame\n",
    "print(df_one_hot.head())"
   ]
  },
  {
   "cell_type": "code",
   "execution_count": null,
   "metadata": {},
   "outputs": [],
   "source": [
    "# Saving the cleaned dataset\n",
    "df_one_hot = pd.read_excel('df_one_hot.xlsx')"
   ]
  }
 ],
 "metadata": {
  "kernelspec": {
   "display_name": "python_course",
   "language": "python",
   "name": "python3"
  },
  "language_info": {
   "codemirror_mode": {
    "name": "ipython",
    "version": 3
   },
   "file_extension": ".py",
   "mimetype": "text/x-python",
   "name": "python",
   "nbconvert_exporter": "python",
   "pygments_lexer": "ipython3",
   "version": "3.11.9"
  }
 },
 "nbformat": 4,
 "nbformat_minor": 2
}
